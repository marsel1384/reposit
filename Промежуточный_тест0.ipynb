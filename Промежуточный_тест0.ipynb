{
  "nbformat": 4,
  "nbformat_minor": 0,
  "metadata": {
    "colab": {
      "provenance": [],
      "authorship_tag": "ABX9TyPwG3AWH+4g1B6NoxRqs/bX",
      "include_colab_link": true
    },
    "kernelspec": {
      "name": "python3",
      "display_name": "Python 3"
    },
    "language_info": {
      "name": "python"
    }
  },
  "cells": [
    {
      "cell_type": "markdown",
      "metadata": {
        "id": "view-in-github",
        "colab_type": "text"
      },
      "source": [
        "<a href=\"https://colab.research.google.com/github/marsel1384/reposit/blob/main/%D0%9F%D1%80%D0%BE%D0%BC%D0%B5%D0%B6%D1%83%D1%82%D0%BE%D1%87%D0%BD%D1%8B%D0%B9_%D1%82%D0%B5%D1%81%D1%820.ipynb\" target=\"_parent\"><img src=\"https://colab.research.google.com/assets/colab-badge.svg\" alt=\"Open In Colab\"/></a>"
      ]
    },
    {
      "cell_type": "markdown",
      "source": [
        "4. Решите пожалуйста следующие задачи. Каждую задачу лучше выполнять в\n",
        "отдельном блоке Code в Colab\n"
      ],
      "metadata": {
        "id": "BOfR0ytRP4Tw"
      }
    },
    {
      "cell_type": "markdown",
      "source": [
        "a. Импортируйте библиотеку NumPy"
      ],
      "metadata": {
        "id": "gT-B9dwARx2E"
      }
    },
    {
      "cell_type": "code",
      "source": [
        "import numpy as np"
      ],
      "metadata": {
        "id": "-FJsG7x6R4ZV"
      },
      "execution_count": 3,
      "outputs": []
    },
    {
      "cell_type": "markdown",
      "source": [
        "b. Создайте массив из 10 нулей\n"
      ],
      "metadata": {
        "id": "rL3rR3GPTeT8"
      }
    },
    {
      "cell_type": "code",
      "source": [
        "a=np.zeros (10)\n",
        "print(a)"
      ],
      "metadata": {
        "colab": {
          "base_uri": "https://localhost:8080/"
        },
        "id": "vMpuMSSWTkkj",
        "outputId": "b0632682-7191-4fac-d2a8-14c38acbd39c"
      },
      "execution_count": 4,
      "outputs": [
        {
          "output_type": "stream",
          "name": "stdout",
          "text": [
            "[0. 0. 0. 0. 0. 0. 0. 0. 0. 0.]\n"
          ]
        }
      ]
    },
    {
      "cell_type": "markdown",
      "source": [
        "c. Создать массив из 10 единиц\n"
      ],
      "metadata": {
        "id": "bod-M6NcT8L3"
      }
    },
    {
      "cell_type": "code",
      "source": [
        "b=np.ones (10)\n",
        "print(b)"
      ],
      "metadata": {
        "colab": {
          "base_uri": "https://localhost:8080/"
        },
        "id": "mhgqHYN1UGAL",
        "outputId": "bf9411d5-e45c-4073-b77c-411c2197d799"
      },
      "execution_count": 5,
      "outputs": [
        {
          "output_type": "stream",
          "name": "stdout",
          "text": [
            "[1. 1. 1. 1. 1. 1. 1. 1. 1. 1.]\n"
          ]
        }
      ]
    },
    {
      "cell_type": "markdown",
      "source": [
        "d. Создать массив из 10 пятерок"
      ],
      "metadata": {
        "id": "-kzPPonLUhDP"
      }
    },
    {
      "cell_type": "code",
      "source": [
        "c=b*5\n",
        "print(c)"
      ],
      "metadata": {
        "colab": {
          "base_uri": "https://localhost:8080/"
        },
        "id": "mmhxOm4yUmjn",
        "outputId": "7a4e58e6-b152-46ed-e563-65beaad19407"
      },
      "execution_count": 6,
      "outputs": [
        {
          "output_type": "stream",
          "name": "stdout",
          "text": [
            "[5. 5. 5. 5. 5. 5. 5. 5. 5. 5.]\n"
          ]
        }
      ]
    },
    {
      "cell_type": "markdown",
      "source": [
        "e. Создать массив из целых чисел от 10 до 50"
      ],
      "metadata": {
        "id": "X-izLfw2U2nu"
      }
    },
    {
      "cell_type": "code",
      "source": [
        "d=np.arange (10,51)\n",
        "print(d)"
      ],
      "metadata": {
        "colab": {
          "base_uri": "https://localhost:8080/"
        },
        "id": "BWe1eVHbU_Em",
        "outputId": "096b9baa-c805-4348-e1ea-ddb204220311"
      },
      "execution_count": 8,
      "outputs": [
        {
          "output_type": "stream",
          "name": "stdout",
          "text": [
            "[10 11 12 13 14 15 16 17 18 19 20 21 22 23 24 25 26 27 28 29 30 31 32 33\n",
            " 34 35 36 37 38 39 40 41 42 43 44 45 46 47 48 49 50]\n"
          ]
        }
      ]
    },
    {
      "cell_type": "markdown",
      "source": [
        "f. Создать массив из четных чисел от 10 до 50"
      ],
      "metadata": {
        "id": "uznjMXQwVcOi"
      }
    },
    {
      "cell_type": "code",
      "source": [
        "f=np.arange (10,51,2)\n",
        "print(f)"
      ],
      "metadata": {
        "colab": {
          "base_uri": "https://localhost:8080/"
        },
        "id": "YPnDefiOVm65",
        "outputId": "9c6cb78b-4e4b-4171-a85e-98469f8cf88f"
      },
      "execution_count": 9,
      "outputs": [
        {
          "output_type": "stream",
          "name": "stdout",
          "text": [
            "[10 12 14 16 18 20 22 24 26 28 30 32 34 36 38 40 42 44 46 48 50]\n"
          ]
        }
      ]
    },
    {
      "cell_type": "markdown",
      "source": [
        "g. Создать матрицу 3х3 с числами от 0 до 8"
      ],
      "metadata": {
        "id": "A2Qq6g5FV7X4"
      }
    },
    {
      "cell_type": "code",
      "source": [
        "z=np.arange (9).reshape (3,3)\n",
        "print(z)"
      ],
      "metadata": {
        "colab": {
          "base_uri": "https://localhost:8080/"
        },
        "id": "wV3DVz7QWEyi",
        "outputId": "f33aeb46-524e-46a6-8bfe-1e542027e402"
      },
      "execution_count": 10,
      "outputs": [
        {
          "output_type": "stream",
          "name": "stdout",
          "text": [
            "[[0 1 2]\n",
            " [3 4 5]\n",
            " [6 7 8]]\n"
          ]
        }
      ]
    },
    {
      "cell_type": "markdown",
      "source": [
        "h. Создать единичную матрицу 3x3"
      ],
      "metadata": {
        "id": "DD-OwyTWXaBU"
      }
    },
    {
      "cell_type": "code",
      "source": [
        "h=np.eye (3)\n",
        "print(h)"
      ],
      "metadata": {
        "colab": {
          "base_uri": "https://localhost:8080/"
        },
        "id": "g_hgvZnqXjkh",
        "outputId": "2dc9e753-bbc9-4c59-d8a7-d48e418771b0"
      },
      "execution_count": 11,
      "outputs": [
        {
          "output_type": "stream",
          "name": "stdout",
          "text": [
            "[[1. 0. 0.]\n",
            " [0. 1. 0.]\n",
            " [0. 0. 1.]]\n"
          ]
        }
      ]
    },
    {
      "cell_type": "markdown",
      "source": [
        "i. Используйте NumPy для генерации случайного числа от 0 до 1"
      ],
      "metadata": {
        "id": "1zxYmesqZR8v"
      }
    },
    {
      "cell_type": "code",
      "source": [
        "i=np.random.rand (1)\n",
        "print(i)"
      ],
      "metadata": {
        "colab": {
          "base_uri": "https://localhost:8080/"
        },
        "id": "snSxqmhpZcty",
        "outputId": "10e90f70-6c4a-4ccc-9ff6-a619ee91dddf"
      },
      "execution_count": 12,
      "outputs": [
        {
          "output_type": "stream",
          "name": "stdout",
          "text": [
            "[0.71858484]\n"
          ]
        }
      ]
    },
    {
      "cell_type": "markdown",
      "source": [
        "j. Используйте NumPy для генерации массива из 25 случайных чисел,\n",
        "взятых из стандартного нормального распределения"
      ],
      "metadata": {
        "id": "1sa5FAOfaC0G"
      }
    },
    {
      "cell_type": "code",
      "source": [
        "j=np.random.rand (25)\n",
        "print(j)"
      ],
      "metadata": {
        "colab": {
          "base_uri": "https://localhost:8080/"
        },
        "id": "0ypUndICabg5",
        "outputId": "a115ce78-19ad-476b-b789-ede1f2ddd3ac"
      },
      "execution_count": 13,
      "outputs": [
        {
          "output_type": "stream",
          "name": "stdout",
          "text": [
            "[0.43096024 0.79020701 0.16239784 0.86415406 0.67751075 0.14762713\n",
            " 0.78378694 0.61689882 0.67070917 0.26108185 0.61444912 0.12374893\n",
            " 0.40935391 0.75141421 0.61692903 0.8206422  0.86420153 0.38109608\n",
            " 0.78566136 0.17745319 0.46999132 0.90379726 0.88211974 0.76146903\n",
            " 0.35829395]\n"
          ]
        }
      ]
    },
    {
      "cell_type": "markdown",
      "source": [
        "k. Создайте следующую матрицу используя функции библиотеки NumPy:"
      ],
      "metadata": {
        "id": "m9vDD3ZKaunR"
      }
    },
    {
      "cell_type": "code",
      "source": [
        "k=np.linspace (0.01,1,100).reshape (10,10)\n",
        "print(k)"
      ],
      "metadata": {
        "colab": {
          "base_uri": "https://localhost:8080/"
        },
        "id": "gH2lmZFga09-",
        "outputId": "7de60b86-d547-4924-b52c-1dc5d0366f48"
      },
      "execution_count": 14,
      "outputs": [
        {
          "output_type": "stream",
          "name": "stdout",
          "text": [
            "[[0.01 0.02 0.03 0.04 0.05 0.06 0.07 0.08 0.09 0.1 ]\n",
            " [0.11 0.12 0.13 0.14 0.15 0.16 0.17 0.18 0.19 0.2 ]\n",
            " [0.21 0.22 0.23 0.24 0.25 0.26 0.27 0.28 0.29 0.3 ]\n",
            " [0.31 0.32 0.33 0.34 0.35 0.36 0.37 0.38 0.39 0.4 ]\n",
            " [0.41 0.42 0.43 0.44 0.45 0.46 0.47 0.48 0.49 0.5 ]\n",
            " [0.51 0.52 0.53 0.54 0.55 0.56 0.57 0.58 0.59 0.6 ]\n",
            " [0.61 0.62 0.63 0.64 0.65 0.66 0.67 0.68 0.69 0.7 ]\n",
            " [0.71 0.72 0.73 0.74 0.75 0.76 0.77 0.78 0.79 0.8 ]\n",
            " [0.81 0.82 0.83 0.84 0.85 0.86 0.87 0.88 0.89 0.9 ]\n",
            " [0.91 0.92 0.93 0.94 0.95 0.96 0.97 0.98 0.99 1.  ]]\n"
          ]
        }
      ]
    },
    {
      "cell_type": "markdown",
      "source": [
        "Дана стартовая матрица (обязательно запустите код ниже в вашем\n",
        "решении!). Эта матрица будет использоваться в последующих задачах"
      ],
      "metadata": {
        "id": "PYiB838fbT9e"
      }
    },
    {
      "cell_type": "code",
      "source": [
        "mat=np.arange(1,26).reshape(5,5)\n",
        "print(mat)"
      ],
      "metadata": {
        "colab": {
          "base_uri": "https://localhost:8080/"
        },
        "id": "_GTfG601bdk2",
        "outputId": "fab42d35-fd1d-4db9-dd34-3694f5cd8289"
      },
      "execution_count": 15,
      "outputs": [
        {
          "output_type": "stream",
          "name": "stdout",
          "text": [
            "[[ 1  2  3  4  5]\n",
            " [ 6  7  8  9 10]\n",
            " [11 12 13 14 15]\n",
            " [16 17 18 19 20]\n",
            " [21 22 23 24 25]]\n"
          ]
        }
      ]
    },
    {
      "cell_type": "markdown",
      "source": [
        "Необходимо написать код который вернет следующую матрицу\n",
        "из стартовой:"
      ],
      "metadata": {
        "id": "k3J-57SutAio"
      }
    },
    {
      "cell_type": "code",
      "source": [
        "print('1=', mat[2:,1:])"
      ],
      "metadata": {
        "colab": {
          "base_uri": "https://localhost:8080/"
        },
        "id": "4Rph0VTEtIFH",
        "outputId": "5ea51003-4b18-4e07-92af-9193c31f3f11"
      },
      "execution_count": 16,
      "outputs": [
        {
          "output_type": "stream",
          "name": "stdout",
          "text": [
            "1= [[12 13 14 15]\n",
            " [17 18 19 20]\n",
            " [22 23 24 25]]\n"
          ]
        }
      ]
    },
    {
      "cell_type": "markdown",
      "source": [
        "Написать код обращения к элементу который вернет значение 20 из\n",
        "стартовой матрицы задачи l."
      ],
      "metadata": {
        "id": "cxYQBNKrtcg5"
      }
    },
    {
      "cell_type": "code",
      "source": [
        "ar=mat[mat==20]\n",
        "print(ar)"
      ],
      "metadata": {
        "colab": {
          "base_uri": "https://localhost:8080/"
        },
        "id": "vqHCw_iHtlTW",
        "outputId": "1a5ca896-3317-4df6-cb2a-5db3d7cc97cc"
      },
      "execution_count": 17,
      "outputs": [
        {
          "output_type": "stream",
          "name": "stdout",
          "text": [
            "[20]\n"
          ]
        }
      ]
    },
    {
      "cell_type": "markdown",
      "source": [
        "Написать код к стартовой матрице задачи l , который воспроизводит\n",
        "вывод, показанный ниже"
      ],
      "metadata": {
        "id": "f1b16b-5tx4H"
      }
    },
    {
      "cell_type": "code",
      "source": [
        "print('n=', mat[0:3,1].reshape(3,1))"
      ],
      "metadata": {
        "colab": {
          "base_uri": "https://localhost:8080/"
        },
        "id": "2SBI5T_Dt2nV",
        "outputId": "22cc597d-4919-4ad0-de33-d1b4fb1a9409"
      },
      "execution_count": 18,
      "outputs": [
        {
          "output_type": "stream",
          "name": "stdout",
          "text": [
            "n= [[ 2]\n",
            " [ 7]\n",
            " [12]]\n"
          ]
        }
      ]
    },
    {
      "cell_type": "markdown",
      "source": [
        "o. Написать код к стартовой матрице задачи l , который воспроизводит\n",
        "вывод, показанный ниже"
      ],
      "metadata": {
        "id": "xjmZ5MJQuLV8"
      }
    },
    {
      "cell_type": "code",
      "source": [
        "print('o=', mat[4:])"
      ],
      "metadata": {
        "colab": {
          "base_uri": "https://localhost:8080/"
        },
        "id": "tzrRlmcauUFG",
        "outputId": "dad42c26-46d4-4256-d652-161a5e609e7b"
      },
      "execution_count": 20,
      "outputs": [
        {
          "output_type": "stream",
          "name": "stdout",
          "text": [
            "o= [[21 22 23 24 25]]\n"
          ]
        }
      ]
    },
    {
      "cell_type": "markdown",
      "source": [
        "p. Написать код к стартовой матрице задачи l , который воспроизводит\n",
        "вывод, показанный ниже"
      ],
      "metadata": {
        "id": "CwMCFmXwwCSP"
      }
    },
    {
      "cell_type": "code",
      "source": [
        "print('p=', mat[3:])"
      ],
      "metadata": {
        "colab": {
          "base_uri": "https://localhost:8080/"
        },
        "id": "F-yGKrlJwJTu",
        "outputId": "35747fce-bf95-4e01-bd96-54c6510bdb04"
      },
      "execution_count": 21,
      "outputs": [
        {
          "output_type": "stream",
          "name": "stdout",
          "text": [
            "p= [[16 17 18 19 20]\n",
            " [21 22 23 24 25]]\n"
          ]
        }
      ]
    },
    {
      "cell_type": "markdown",
      "source": [
        "q. Получить сумму всех значений в стартовой матрице mat\n"
      ],
      "metadata": {
        "id": "GGoPLYKowUbW"
      }
    },
    {
      "cell_type": "code",
      "source": [
        "print(mat.sum())"
      ],
      "metadata": {
        "colab": {
          "base_uri": "https://localhost:8080/"
        },
        "id": "E4_HEQetwa8v",
        "outputId": "8be7d8bd-736f-417c-f6c4-abda05627bd0"
      },
      "execution_count": 22,
      "outputs": [
        {
          "output_type": "stream",
          "name": "stdout",
          "text": [
            "325\n"
          ]
        }
      ]
    },
    {
      "cell_type": "markdown",
      "source": [
        "r. Получить стандартное отклонение в стартовой матрице mat"
      ],
      "metadata": {
        "id": "A3I3J_KYwiYd"
      }
    },
    {
      "cell_type": "code",
      "source": [
        "print(mat.std())"
      ],
      "metadata": {
        "colab": {
          "base_uri": "https://localhost:8080/"
        },
        "id": "5RxGwWfYwuAO",
        "outputId": "bc38355a-507b-4a98-ccfa-2c9a716551d7"
      },
      "execution_count": 23,
      "outputs": [
        {
          "output_type": "stream",
          "name": "stdout",
          "text": [
            "7.211102550927978\n"
          ]
        }
      ]
    },
    {
      "cell_type": "markdown",
      "source": [
        "s. Получить сумму значений в колонках в стартовой матрице mat\n"
      ],
      "metadata": {
        "id": "-1MzTiFbw4qM"
      }
    },
    {
      "cell_type": "code",
      "source": [
        "print(mat.sum(axis=0))"
      ],
      "metadata": {
        "colab": {
          "base_uri": "https://localhost:8080/"
        },
        "id": "-X-vh-srw6QY",
        "outputId": "e9faa589-7179-4f74-f4e2-eb24e7f474e9"
      },
      "execution_count": 24,
      "outputs": [
        {
          "output_type": "stream",
          "name": "stdout",
          "text": [
            "[55 60 65 70 75]\n"
          ]
        }
      ]
    },
    {
      "cell_type": "markdown",
      "source": [],
      "metadata": {
        "id": "qghoR2Wqwu-W"
      }
    }
  ]
}